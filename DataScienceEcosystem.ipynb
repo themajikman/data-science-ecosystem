{
 "cells": [
  {
   "cell_type": "markdown",
   "id": "f9194b9f-d494-47a9-9c99-c10e40ea212c",
   "metadata": {},
   "source": [
    "# Data Science Tools and Ecosystem"
   ]
  },
  {
   "cell_type": "markdown",
   "id": "80783e7b-326f-46d7-bc6b-0601d9fc6731",
   "metadata": {},
   "source": [
    "## Author\n",
    "Daniel Crites"
   ]
  },
  {
   "cell_type": "markdown",
   "id": "8a575661-a1a9-42e9-818e-beb18d49a89a",
   "metadata": {},
   "source": [
    "This notebook summarizes the tools and ecosystem for data science."
   ]
  },
  {
   "cell_type": "markdown",
   "id": "85bdf26d-6d33-4ffa-9309-412b73bb267f",
   "metadata": {},
   "source": [
    "Objectives:\n",
    "* List popular languages for data science\n",
    "* List common libraries for data science\n",
    "* Table of tools for data science\n",
    "* Doing arithmetic in Jupyter Notebook"
   ]
  },
  {
   "cell_type": "markdown",
   "id": "f4e886e3-9f60-4452-a330-e75c50d9edf5",
   "metadata": {},
   "source": [
    "Some of the popular languages that Data Scientists use are:\n",
    "1. Python\n",
    "2. R\n",
    "3. SQL\n",
    "4. Java\n",
    "5. Scala\n",
    "6. JavaScript\n",
    "7. Julia"
   ]
  },
  {
   "cell_type": "markdown",
   "id": "14032723-b832-4216-82d8-d7b5f3ce14ee",
   "metadata": {},
   "source": [
    "Some of the commonly used libraries by Data Scientists include:\n",
    "1. Python libraries (Pandas, NumPy, Matplotlib, Seaborn, Scikit-learn, Keras, TensorFlow, PyTorch)\n",
    "2. Scala libraries (Vegas, Big DL)\n",
    "3. R libraries (ggplot2)"
   ]
  },
  {
   "cell_type": "markdown",
   "id": "e562c90f-ccca-403c-96e4-fd6232e2c328",
   "metadata": {},
   "source": [
    "|Data Science Tools|\n",
    "|------------------|\n",
    "|Jupyter|\n",
    "|RStudio|\n",
    "|Spyder|"
   ]
  },
  {
   "cell_type": "markdown",
   "id": "9ba7e7f0-2105-48ec-be7c-ce56b925da59",
   "metadata": {},
   "source": [
    "### Below are a few examples of evaluating arithmetic expressions in Python"
   ]
  },
  {
   "cell_type": "code",
   "execution_count": 1,
   "id": "5a68164a-f065-49e4-8721-86a652bfacc1",
   "metadata": {},
   "outputs": [
    {
     "data": {
      "text/plain": [
       "17"
      ]
     },
     "execution_count": 1,
     "metadata": {},
     "output_type": "execute_result"
    }
   ],
   "source": [
    "# This arithmetic expression multiplies then adds integers\n",
    "(3*4)+5"
   ]
  },
  {
   "cell_type": "code",
   "execution_count": 2,
   "id": "5cfb029f-e9a9-480c-8c0d-d21599e4f296",
   "metadata": {},
   "outputs": [
    {
     "data": {
      "text/plain": [
       "3.3333333333333335"
      ]
     },
     "execution_count": 2,
     "metadata": {},
     "output_type": "execute_result"
    }
   ],
   "source": [
    "# This will convert 200 minutes to hours\n",
    "200/60"
   ]
  },
  {
   "cell_type": "code",
   "execution_count": null,
   "id": "ef8aa8d3-0742-4647-a7b1-7330be252d28",
   "metadata": {},
   "outputs": [],
   "source": []
  }
 ],
 "metadata": {
  "kernelspec": {
   "display_name": "Python 3 (ipykernel)",
   "language": "python",
   "name": "python3"
  },
  "language_info": {
   "codemirror_mode": {
    "name": "ipython",
    "version": 3
   },
   "file_extension": ".py",
   "mimetype": "text/x-python",
   "name": "python",
   "nbconvert_exporter": "python",
   "pygments_lexer": "ipython3",
   "version": "3.12.1"
  }
 },
 "nbformat": 4,
 "nbformat_minor": 5
}
